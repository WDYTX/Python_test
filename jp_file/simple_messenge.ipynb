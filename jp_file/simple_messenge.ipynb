{
 "cells": [
  {
   "cell_type": "code",
   "execution_count": 1,
   "id": "27675db7",
   "metadata": {},
   "outputs": [
    {
     "name": "stdout",
     "output_type": "stream",
     "text": [
      "hehe\n"
     ]
    }
   ],
   "source": [
    "messenge=\"hehe123\"\n",
    "print(messenge)"
   ]
  },
  {
   "cell_type": "code",
   "execution_count": 2,
   "id": "dcdf419b",
   "metadata": {},
   "outputs": [
    {
     "name": "stdout",
     "output_type": "stream",
     "text": [
      "123354123\n",
      "Nibiplus Sdfas Asdccddz 123\n",
      "NIBIPLUS SDFAS ASDCCDDZ 123\n",
      "nibiplus sdfas asdccddz 123\n"
     ]
    }
   ],
   "source": [
    "messenge=\"123354\"\n",
    "print(messenge)\n",
    "messenge=\"nIbiplus sfAs asDccddz 123\"\n",
    "print(messenge.title())\n",
    "print(messenge.upper())\n",
    "print(messenge.lower())"
   ]
  },
  {
   "cell_type": "code",
   "execution_count": 3,
   "id": "8216beea",
   "metadata": {},
   "outputs": [
    {
     "name": "stdout",
     "output_type": "stream",
     "text": [
      "7dddsajd\n"
     ]
    }
   ],
   "source": [
    "a=\"7ddd\"\n",
    "b=\"sjd\"\n",
    "c=a+b\n",
    "print(c)"
   ]
  },
  {
   "cell_type": "code",
   "execution_count": 4,
   "id": "a3b4a28e",
   "metadata": {},
   "outputs": [
    {
     "name": "stdout",
     "output_type": "stream",
     "text": [
      "python\n",
      "\tpython\n",
      "python\t\n",
      "python\n",
      "\n"
     ]
    }
   ],
   "source": [
    "print('python3')\n",
    "print('\\tpython3')\n",
    "print('python3\\t')\n",
    "print('python3\\n')"
   ]
  },
  {
   "cell_type": "markdown",
   "id": "29b074f9",
   "metadata": {},
   "source": [
    "### hhhh\n",
    "# hhhh\n",
    "## hhhh\n",
    "#### hhhh"
   ]
  },
  {
   "cell_type": "code",
   "execution_count": 9,
   "id": "1590b30e",
   "metadata": {},
   "outputs": [
    {
     "name": "stdout",
     "output_type": "stream",
     "text": [
      "languages:\n",
      "\tpython\n",
      "\tc\n",
      "\tjava_script\n"
     ]
    }
   ],
   "source": [
    "messenge='languages:\\n\\tpython\\n\\tc\\n\\tjava_script'\n",
    "print(messenge)"
   ]
  },
  {
   "cell_type": "code",
   "execution_count": 18,
   "id": "e946a5b3",
   "metadata": {},
   "outputs": [
    {
     "name": "stdout",
     "output_type": "stream",
     "text": [
      " ssd\n",
      "ssd\n",
      "123\n"
     ]
    }
   ],
   "source": [
    "a=' ssd  '\n",
    "b=a.rstrip()\n",
    "print(b)\n",
    "b=b.lstrip()\n",
    "print(b)\n",
    "print('123')"
   ]
  },
  {
   "cell_type": "code",
   "execution_count": 21,
   "id": "6e6704b8",
   "metadata": {},
   "outputs": [
    {
     "name": "stdout",
     "output_type": "stream",
     "text": [
      "yxz\n"
     ]
    }
   ],
   "source": [
    "a=' yxz '\n",
    "b=a.strip()\n",
    "print(b)"
   ]
  },
  {
   "cell_type": "code",
   "execution_count": 23,
   "id": "f8ffb068",
   "metadata": {},
   "outputs": [
    {
     "name": "stdout",
     "output_type": "stream",
     "text": [
      "sdfdsfg'xxx'\n"
     ]
    }
   ],
   "source": [
    "x='sdksd'\n",
    "y='s_jdoi'\n",
    "print(\"sdfdsfg'xxx'\")\n"
   ]
  }
 ],
 "metadata": {
  "kernelspec": {
   "display_name": "Python 3 (ipykernel)",
   "language": "python",
   "name": "python3"
  },
  "language_info": {
   "codemirror_mode": {
    "name": "ipython",
    "version": 3
   },
   "file_extension": ".py",
   "mimetype": "text/x-python",
   "name": "python",
   "nbconvert_exporter": "python",
   "pygments_lexer": "ipython3",
   "version": "3.10.9"
  }
 },
 "nbformat": 4,
 "nbformat_minor": 5
}
