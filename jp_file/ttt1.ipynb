{
 "cells": [
  {
   "cell_type": "code",
   "execution_count": 4,
   "id": "78cd1eb5",
   "metadata": {
    "pycharm": {
     "name": "#%%\n"
    }
   },
   "outputs": [
    {
     "name": "stdout",
     "output_type": "stream",
     "text": [
      "tensor(0.5514)\n"
     ]
    }
   ],
   "source": [
    "import torch\n",
    "\n",
    "# 随机生成一个预测结果的张量（对应4个样本，3个类别）\n",
    "x1 = torch.tensor([[10.0, -10.0, -10.0],\n",
    "                   [-10.0, 10.0, -10.0],\n",
    "                   [-10.0, -10.0, 10.0],\n",
    "                   [10.0, -10.0, -10.0]])\n",
    "\n",
    "# 真实的类别标签\n",
    "y1 = torch.tensor([0, 1, 2, 0])\n",
    "\n",
    "# 使用交叉熵损失函数计算损失\n",
    "loss = torch.nn.CrossEntropyLoss()\n",
    "l = loss(x1, y1)\n",
    "\n",
    "print(l.item())"
   ]
  },
  {
   "cell_type": "code",
   "execution_count": 1,
   "id": "4dc125c4",
   "metadata": {
    "pycharm": {
     "name": "#%%\n"
    }
   },
   "outputs": [
    {
     "ename": "AttributeError",
     "evalue": "'numpy.ndarray' object has no attribute 'GetWidth'",
     "output_type": "error",
     "traceback": [
      "\u001B[1;31m---------------------------------------------------------------------------\u001B[0m",
      "\u001B[1;31mAttributeError\u001B[0m                            Traceback (most recent call last)",
      "Cell \u001B[1;32mIn[1], line 5\u001B[0m\n\u001B[0;32m      2\u001B[0m a\u001B[38;5;241m=\u001B[39msitk\u001B[38;5;241m.\u001B[39mReadImage(\u001B[38;5;124m'\u001B[39m\u001B[38;5;124mD:\u001B[39m\u001B[38;5;124m\\\u001B[39m\u001B[38;5;124mdownload\u001B[39m\u001B[38;5;124m\\\u001B[39m\u001B[38;5;124mBraTS2020_TrainingData\u001B[39m\u001B[38;5;124m\\\u001B[39m\u001B[38;5;124mMICCAI_BraTS2020_TrainingData\u001B[39m\u001B[38;5;124m\\\u001B[39m\u001B[38;5;124mBraTS20_Training_001\u001B[39m\u001B[38;5;124m\\\u001B[39m\u001B[38;5;124mBraTS20_Training_001_flair.nii\u001B[39m\u001B[38;5;124m'\u001B[39m)\n\u001B[0;32m      3\u001B[0m a\u001B[38;5;241m=\u001B[39msitk\u001B[38;5;241m.\u001B[39mGetArrayFromImage(a)\n\u001B[1;32m----> 5\u001B[0m \u001B[43ma\u001B[49m\u001B[38;5;241;43m.\u001B[39;49m\u001B[43mGetWidth\u001B[49m(),a\u001B[38;5;241m.\u001B[39mGetHeight(),a\u001B[38;5;241m.\u001B[39mGetdepth(),a\u001B[38;5;241m.\u001B[39mshape\n",
      "\u001B[1;31mAttributeError\u001B[0m: 'numpy.ndarray' object has no attribute 'GetWidth'"
     ]
    }
   ],
   "source": []
  },
  {
   "cell_type": "code",
   "execution_count": 3,
   "id": "63d0c073",
   "metadata": {
    "pycharm": {
     "name": "#%%\n"
    }
   },
   "outputs": [
    {
     "name": "stdout",
     "output_type": "stream",
     "text": [
      "tensor(3.5000)\n"
     ]
    }
   ],
   "source": [
    "import torch\n",
    "\n",
    "# 创建一个示例二维张量\n",
    "x = torch.tensor([[1.0, 2.0, 3.0],\n",
    "                  [4.0, 5.0, 6.0]])\n",
    "\n",
    "\n",
    "mean_along_dim0 = torch.mean(x)\n",
    "print(mean_along_dim0)\n"
   ]
  },
  {
   "cell_type": "code",
   "execution_count": 9,
   "outputs": [
    {
     "name": "stdout",
     "output_type": "stream",
     "text": [
      "tensor([[[[[1, 0],\n",
      "           [1, 0]],\n",
      "\n",
      "          [[0, 1],\n",
      "           [1, 0]]],\n",
      "\n",
      "\n",
      "         [[[1, 0],\n",
      "           [0, 1]],\n",
      "\n",
      "          [[0, 1],\n",
      "           [0, 1]]],\n",
      "\n",
      "\n",
      "         [[[0, 1],\n",
      "           [1, 1]],\n",
      "\n",
      "          [[0, 1],\n",
      "           [0, 0]]]]])\n",
      "tensor([[[[[0., 1.],\n",
      "           [0., 1.]],\n",
      "\n",
      "          [[1., 0.],\n",
      "           [0., 1.]]],\n",
      "\n",
      "\n",
      "         [[[0., 1.],\n",
      "           [1., 0.]],\n",
      "\n",
      "          [[1., 0.],\n",
      "           [1., 0.]]],\n",
      "\n",
      "\n",
      "         [[[1., 0.],\n",
      "           [0., 0.]],\n",
      "\n",
      "          [[1., 0.],\n",
      "           [1., 1.]]]]])\n"
     ]
    }
   ],
   "source": [
    "import torch\n",
    "a=torch.randint(0,2,(1,3,2,2,2))\n",
    "print(a)\n",
    "b=(a==0).float()\n",
    "print(b)\n"
   ],
   "metadata": {
    "collapsed": false,
    "pycharm": {
     "name": "#%%\n"
    }
   }
  },
  {
   "cell_type": "code",
   "execution_count": 8,
   "outputs": [
    {
     "name": "stdout",
     "output_type": "stream",
     "text": [
      "tensor([[[[[0., 0.],\n",
      "           [0., 0.]],\n",
      "\n",
      "          [[0., 0.],\n",
      "           [0., 0.]]],\n",
      "\n",
      "\n",
      "         [[[0., 0.],\n",
      "           [0., 0.]],\n",
      "\n",
      "          [[0., 0.],\n",
      "           [0., 0.]]],\n",
      "\n",
      "\n",
      "         [[[0., 0.],\n",
      "           [0., 0.]],\n",
      "\n",
      "          [[0., 0.],\n",
      "           [0., 0.]]]]])\n"
     ]
    }
   ],
   "source": [
    "c=b*a\n",
    "print(c)"
   ],
   "metadata": {
    "collapsed": false,
    "pycharm": {
     "name": "#%%\n"
    }
   }
  },
  {
   "cell_type": "code",
   "execution_count": 13,
   "outputs": [
    {
     "name": "stdout",
     "output_type": "stream",
     "text": [
      "tensor([[[[1, 2, 1, 2],\n",
      "          [1, 1, 1, 2],\n",
      "          [2, 1, 1, 1]],\n",
      "\n",
      "         [[2, 2, 1, 2],\n",
      "          [1, 1, 2, 2],\n",
      "          [2, 2, 2, 2]]]])\n"
     ]
    },
    {
     "data": {
      "text/plain": "tensor([37])"
     },
     "execution_count": 13,
     "metadata": {},
     "output_type": "execute_result"
    }
   ],
   "source": [
    "a=torch.randint(1,3,(1,2,3,4))\n",
    "print(a)\n",
    "b=torch.sum(a,dim=(1,2,3))\n",
    "b"
   ],
   "metadata": {
    "collapsed": false,
    "pycharm": {
     "name": "#%%\n"
    }
   }
  },
  {
   "cell_type": "code",
   "execution_count": 17,
   "outputs": [
    {
     "ename": "TypeError",
     "evalue": "'list' object cannot be interpreted as an integer",
     "output_type": "error",
     "traceback": [
      "\u001B[1;31m---------------------------------------------------------------------------\u001B[0m",
      "\u001B[1;31mTypeError\u001B[0m                                 Traceback (most recent call last)",
      "Cell \u001B[1;32mIn[17], line 2\u001B[0m\n\u001B[0;32m      1\u001B[0m \u001B[38;5;28;01mimport\u001B[39;00m \u001B[38;5;21;01mnumpy\u001B[39;00m \u001B[38;5;28;01mas\u001B[39;00m \u001B[38;5;21;01mnp\u001B[39;00m\n\u001B[1;32m----> 2\u001B[0m img\u001B[38;5;241m=\u001B[39m[\u001B[43mnp\u001B[49m\u001B[38;5;241;43m.\u001B[39;49m\u001B[43mndarray\u001B[49m\u001B[43m(\u001B[49m\u001B[43m[\u001B[49m\u001B[43m[\u001B[49m\u001B[38;5;241;43m1\u001B[39;49m\u001B[43m,\u001B[49m\u001B[38;5;241;43m2\u001B[39;49m\u001B[43m,\u001B[49m\u001B[38;5;241;43m3\u001B[39;49m\u001B[43m]\u001B[49m\u001B[43m,\u001B[49m\u001B[43m[\u001B[49m\u001B[38;5;241;43m1\u001B[39;49m\u001B[43m,\u001B[49m\u001B[38;5;241;43m3\u001B[39;49m\u001B[43m,\u001B[49m\u001B[38;5;241;43m4\u001B[39;49m\u001B[43m]\u001B[49m\u001B[43m]\u001B[49m\u001B[43m)\u001B[49m,np\u001B[38;5;241m.\u001B[39mndarray([[\u001B[38;5;241m1\u001B[39m,\u001B[38;5;241m3\u001B[39m,\u001B[38;5;241m3\u001B[39m],[\u001B[38;5;241m13\u001B[39m,\u001B[38;5;241m34\u001B[39m,\u001B[38;5;241m123\u001B[39m]])]\n\u001B[0;32m      3\u001B[0m im \u001B[38;5;241m=\u001B[39m img \u001B[38;5;28;01mif\u001B[39;00m \u001B[38;5;28misinstance\u001B[39m(img, np\u001B[38;5;241m.\u001B[39mndarray) \u001B[38;5;28;01melse\u001B[39;00m img[\u001B[38;5;241m0\u001B[39m]\n\u001B[0;32m      4\u001B[0m \u001B[38;5;28mprint\u001B[39m(im)\n",
      "\u001B[1;31mTypeError\u001B[0m: 'list' object cannot be interpreted as an integer"
     ]
    }
   ],
   "source": [
    "import numpy as np\n",
    "img=[np.ndarray([[1,2,3],[1,3,4]]),np.ndarray([[1,3,3],[13,34,123]])]\n",
    "im = img if isinstance(img, np.ndarray) else img[0]\n",
    "print(im)"
   ],
   "metadata": {
    "collapsed": false,
    "pycharm": {
     "name": "#%%\n"
    }
   }
  },
  {
   "cell_type": "code",
   "execution_count": null,
   "outputs": [],
   "source": [],
   "metadata": {
    "collapsed": false,
    "pycharm": {
     "name": "#%%\n"
    }
   }
  }
 ],
 "metadata": {
  "kernelspec": {
   "display_name": "Python 3 (ipykernel)",
   "language": "python",
   "name": "python3"
  },
  "language_info": {
   "codemirror_mode": {
    "name": "ipython",
    "version": 3
   },
   "file_extension": ".py",
   "mimetype": "text/x-python",
   "name": "python",
   "nbconvert_exporter": "python",
   "pygments_lexer": "ipython3",
   "version": "3.10.9"
  }
 },
 "nbformat": 4,
 "nbformat_minor": 5
}