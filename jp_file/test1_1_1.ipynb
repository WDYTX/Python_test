{
 "cells": [
  {
   "cell_type": "code",
   "execution_count": 1,
   "id": "fe0e9371",
   "metadata": {
    "pycharm": {
     "name": "#%%\n"
    }
   },
   "outputs": [],
   "source": [
    "import turtle\n",
    "turtle.circle(100,-180)\n",
    "turtle.circle(200,200)"
   ]
  },
  {
   "cell_type": "code",
   "execution_count": 13,
   "id": "e50e5998",
   "metadata": {
    "pycharm": {
     "name": "#%%\n"
    }
   },
   "outputs": [
    {
     "name": "stdout",
     "output_type": "stream",
     "text": [
      "tensor([[0.5609, 0.6421, 0.4960],\n",
      "        [0.0685, 0.3763, 0.2172],\n",
      "        [0.0402, 0.0708, 0.7035],\n",
      "        [0.5997, 0.9702, 0.3810],\n",
      "        [0.5508, 0.3867, 0.1218]])\n"
     ]
    }
   ],
   "source": [
    "import torch\n",
    "x=torch.rand(5,3)\n",
    "print(x)"
   ]
  },
  {
   "cell_type": "code",
   "execution_count": null,
   "id": "7c586932",
   "metadata": {
    "pycharm": {
     "name": "#%%\n",
     "is_executing": true
    }
   },
   "outputs": [],
   "source": [
    "import torch\n",
    "y=torch.arange(12)\n",
    "print(y)\n",
    "print(y.reshape(3,-1))\n",
    "torch.exp(y.reshape(3,-1))\n",
    "b=y.reshape(3,-1).sum()\n",
    "print(b)\n",
    "print(id(b))\n",
    "b=b+b\n",
    "print(id(b))"
   ]
  },
  {
   "cell_type": "code",
   "execution_count": null,
   "id": "08c5cbe9",
   "metadata": {
    "pycharm": {
     "name": "#%%\n",
     "is_executing": true
    }
   },
   "outputs": [],
   "source": [
    "import torch\n",
    "x=torch.arange(12).reshape(1,3,-1)\n",
    "print(x)\n",
    "y=torch.tensor([[1,2,3,4],[3,4,5,6],[5,6,7,5]])\n",
    "x>y\n",
    "print(y)\n",
    "print(x>y)"
   ]
  },
  {
   "cell_type": "code",
   "execution_count": 68,
   "id": "de2f8f04",
   "metadata": {
    "pycharm": {
     "name": "#%%\n"
    }
   },
   "outputs": [
    {
     "name": "stdout",
     "output_type": "stream",
     "text": [
      "tensor([[[ 0,  1],\n",
      "         [ 2,  3],\n",
      "         [ 4,  5]],\n",
      "\n",
      "        [[ 6,  7],\n",
      "         [ 8,  9],\n",
      "         [10, 11]]])\n",
      "\n",
      "\n",
      "tensor([[[0, 1]]])\n",
      "\n",
      "\n",
      "tensor([[[ 0,  2],\n",
      "         [ 2,  4],\n",
      "         [ 4,  6]],\n",
      "\n",
      "        [[ 6,  8],\n",
      "         [ 8, 10],\n",
      "         [10, 12]]])\n",
      "tensor([[0],\n",
      "        [1],\n",
      "        [2]])\n",
      "tensor([[0],\n",
      "        [1],\n",
      "        [2]])\n"
     ]
    }
   ],
   "source": [
    "# import torch\n",
    "# a = torch.arange(12).reshape((2,3,2))\n",
    "# print(a)\n",
    "# print('\\n')\n",
    "# b = torch.arange(2).reshape((1,1,2))\n",
    "# print(b)\n",
    "# print('\\n')\n",
    "# print(a+b)\n",
    "# a = torch.arange(3).reshape(3, 1)\n",
    "# print(a)\n",
    "# b = torch.arange(3).reshape((3, 1))\n",
    "# print(b)"
   ]
  },
  {
   "cell_type": "code",
   "execution_count": 2,
   "id": "77cf51f3",
   "metadata": {
    "scrolled": false,
    "pycharm": {
     "name": "#%%\n"
    }
   },
   "outputs": [
    {
     "name": "stdout",
     "output_type": "stream",
     "text": [
      "   NumRooms Alley   Price\n",
      "0       NaN  Pave  127500\n",
      "1       2.0   NaN  106000\n",
      "2       4.0   NaN  178100\n",
      "3       NaN   NaN  140000\n",
      "   NumRooms\n",
      "0       NaN\n",
      "1       2.0\n",
      "2       4.0\n",
      "3       NaN\n",
      "\n",
      "\n",
      "   NumRooms\n",
      "0       3.0\n",
      "1       2.0\n",
      "2       4.0\n",
      "3       3.0\n"
     ]
    }
   ],
   "source": [
    "import os\n",
    "os.makedirs(os.path.join('..', 'data'), exist_ok=True)#创建文件夹\n",
    "data_file = os.path.join('..', 'data', 'house_tiny.csv')#创建文件\n",
    "with open(data_file, 'w') as f:\n",
    "    f.write('NumRooms,Alley,Price\\n') # 列名\n",
    "    f.write('NA,Pave,127500\\n') # 每⾏表⽰⼀个数据样本\n",
    "    f.write('2,NA,106000\\n')\n",
    "    f.write('4,NA,178100\\n')\n",
    "    f.write('NA,NA,140000\\n')\n",
    "import pandas as pd\n",
    "data = pd.read_csv(data_file)\n",
    "print(data)\n",
    "inputs=data.iloc[:,0:1]\n",
    "print(inputs)\n",
    "print('\\n')\n",
    "inputs=inputs.fillna(inputs.mean())\n",
    "print(inputs)"
   ]
  },
  {
   "cell_type": "code",
   "execution_count": 87,
   "id": "8a468c78",
   "metadata": {
    "scrolled": false,
    "pycharm": {
     "name": "#%%\n"
    }
   },
   "outputs": [
    {
     "name": "stdout",
     "output_type": "stream",
     "text": [
      "7\n",
      "[[123, 1233, 4, 4, 5, 7, 676], [12, 3, 4, 6, 7, 7, 5]]\n"
     ]
    },
    {
     "data": {
      "text/plain": [
       "3"
      ]
     },
     "execution_count": 87,
     "metadata": {},
     "output_type": "execute_result"
    }
   ],
   "source": [
    "a=[123,1233,4,4,5,7,676]\n",
    "x=a[::-1]#翻转\n",
    "print(x[1])\n",
    "a[:-1]#除去最后一个\n",
    "b=[[123,1233,4,4,5,7,676],[12,3,4,6,7,7,5]]\n",
    "print(b)\n",
    "b[1][1]"
   ]
  },
  {
   "cell_type": "code",
   "execution_count": 33,
   "id": "d81e99ab",
   "metadata": {
    "scrolled": true,
    "pycharm": {
     "name": "#%%\n"
    }
   },
   "outputs": [
    {
     "name": "stdout",
     "output_type": "stream",
     "text": [
      "torch.Size([12])\n",
      "tensor([[ 0,  1,  2,  3],\n",
      "        [ 4,  5,  6,  7],\n",
      "        [ 8,  9, 10, 11]])\n",
      "tensor([[ 0,  1,  2,  3],\n",
      "        [ 5,  5,  5,  5],\n",
      "        [ 8,  9, 10, 11]])\n",
      "torch.Size([3, 4])\n",
      "12\n"
     ]
    },
    {
     "data": {
      "text/plain": [
       "torch.Size([2, 1, 2, 5])"
      ]
     },
     "execution_count": 33,
     "metadata": {},
     "output_type": "execute_result"
    }
   ],
   "source": [
    "import torch\n",
    "a=torch.arange(12)\n",
    "print(a.shape)\n",
    "a=a.reshape(3,4)\n",
    "print(a)\n",
    "a[1]\n",
    "a[1]=5\n",
    "print(a)\n",
    "print(a.shape)#a.shape得到张量的形状，其中总个数为3*4=12个\n",
    "print(a.numel())#a.numel()得到元素的个数\n",
    "b=torch.tensor([[[[1,2,3,4,5],[1,3,4,5,6]]],[[[1,2,3,4,5],[1,3,4,5,6]]]])#为张量赋值\n",
    "b.shape"
   ]
  },
  {
   "cell_type": "code",
   "execution_count": 63,
   "id": "bbf1b879",
   "metadata": {
    "scrolled": false,
    "pycharm": {
     "name": "#%%\n"
    }
   },
   "outputs": [
    {
     "name": "stdout",
     "output_type": "stream",
     "text": [
      "tensor([[6, 6, 6, 6],\n",
      "        [6, 6, 6, 6],\n",
      "        [6, 6, 6, 6]])\n",
      "tensor([[ 0.,  1.,  2.,  3.],\n",
      "        [ 4.,  5.,  6.,  7.],\n",
      "        [ 8.,  9., 10., 11.]])\n",
      "tensor([[ 6.,  6.,  6.,  6.],\n",
      "        [ 6.,  6.,  6.,  6.],\n",
      "        [ 6.,  6.,  6.,  6.],\n",
      "        [ 0.,  1.,  2.,  3.],\n",
      "        [ 4.,  5.,  6.,  7.],\n",
      "        [ 8.,  9., 10., 11.]])\n",
      "tensor([[ 6.,  6.,  6.,  6.,  0.,  1.,  2.,  3.],\n",
      "        [ 6.,  6.,  6.,  6.,  4.,  5.,  6.,  7.],\n",
      "        [ 6.,  6.,  6.,  6.,  8.,  9., 10., 11.]])\n",
      "tensor([[ 6.,  6.,  6.,  6.,  6.,  6.],\n",
      "        [ 6.,  6.,  6.,  6.,  6.,  6.],\n",
      "        [ 0.,  1.,  2.,  3.,  4.,  5.],\n",
      "        [ 6.,  7.,  8.,  9., 10., 11.]])\n",
      "tensor([[ 6.,  6.,  6.,  6.,  0.,  1.],\n",
      "        [ 2.,  3.,  6.,  6.,  6.,  6.],\n",
      "        [ 4.,  5.,  6.,  7.,  6.,  6.],\n",
      "        [ 6.,  6.,  8.,  9., 10., 11.]])\n",
      "tensor([[False, False, False, False,  True,  True],\n",
      "        [ True,  True, False, False, False, False],\n",
      "        [False, False, False, False, False, False],\n",
      "        [False,  True, False, False, False, False]])\n"
     ]
    }
   ],
   "source": [
    "import torch\n",
    "a=torch.tensor([[6,6,6,6],[6,6,6,6],[6,6,6,6]])\n",
    "a=a.reshape(3,4)\n",
    "print(a)\n",
    "b=torch.tensor([4,5,6,9])\n",
    "a+b,a*b,a-b,a/b\n",
    "c=torch.arange(12,dtype=torch.float32).reshape(3,4)\n",
    "print(c)\n",
    "x=torch.cat((a,c),dim=0)#按行堆叠\n",
    "y=torch.cat((a,c),dim=1)#按列堆叠\n",
    "print(x)\n",
    "print(y)\n",
    "x=x.reshape(4,6)\n",
    "y=y.reshape(4,6)\n",
    "print(x)\n",
    "print(y)\n",
    "print(x>y)"
   ]
  },
  {
   "cell_type": "code",
   "execution_count": 76,
   "id": "748e2ef6",
   "metadata": {
    "pycharm": {
     "name": "#%%\n"
    }
   },
   "outputs": [
    {
     "name": "stdout",
     "output_type": "stream",
     "text": [
      "tensor([[0],\n",
      "        [1],\n",
      "        [2],\n",
      "        [3],\n",
      "        [4],\n",
      "        [5],\n",
      "        [6]])\n",
      "tensor([[0, 1, 2]])\n",
      "[[0]\n",
      " [1]\n",
      " [2]\n",
      " [3]\n",
      " [4]\n",
      " [5]\n",
      " [6]]\n",
      "tensor([[0],\n",
      "        [1],\n",
      "        [2],\n",
      "        [3],\n",
      "        [4],\n",
      "        [5],\n",
      "        [6]])\n"
     ]
    }
   ],
   "source": [
    "import torch\n",
    "a=torch.arange(7).reshape(7,1)\n",
    "b=torch.arange(3).reshape(1,3)\n",
    "print(a)\n",
    "print(b)\n",
    "a+b#广播机制交叉有1才行\n",
    "a=a.numpy()\n",
    "print(a)\n",
    "a=torch.tensor(a)\n",
    "print(a)"
   ]
  },
  {
   "cell_type": "code",
   "execution_count": 93,
   "id": "8229166b",
   "metadata": {
    "pycharm": {
     "name": "#%%\n"
    }
   },
   "outputs": [
    {
     "name": "stdout",
     "output_type": "stream",
     "text": [
      "tensor([[ 0,  1,  2,  3],\n",
      "        [ 4,  5,  6,  7],\n",
      "        [ 8,  9, 10, 11]])\n"
     ]
    },
    {
     "data": {
      "text/plain": [
       "tensor([1, 5, 9])"
      ]
     },
     "execution_count": 93,
     "metadata": {},
     "output_type": "execute_result"
    }
   ],
   "source": [
    "import torch \n",
    "a=torch.arange(12).reshape(3,4)\n",
    "print(a)\n",
    "a[:,1]"
   ]
  },
  {
   "cell_type": "code",
   "execution_count": 115,
   "id": "f4e0506b",
   "metadata": {
    "scrolled": true,
    "pycharm": {
     "name": "#%%\n"
    }
   },
   "outputs": [
    {
     "name": "stdout",
     "output_type": "stream",
     "text": [
      "   NumRooms Alley   Price\n",
      "0       NaN  Pave  127500\n",
      "1       2.0   NaN  106000\n",
      "2       4.0   NaN  178100\n",
      "3       NaN   NaN  140000\n",
      "\n",
      "\n",
      "\n",
      "\n",
      "   NumRooms Alley\n",
      "0       NaN  Pave\n",
      "1       2.0   NaN\n",
      "2       4.0   NaN\n",
      "3       NaN   NaN\n",
      "\n",
      "\n",
      "   NumRooms  Alley_Pave  Alley_nan\n",
      "0       3.0           1          0\n",
      "1       2.0           0          1\n",
      "2       4.0           0          1\n",
      "3       3.0           0          1\n"
     ]
    },
    {
     "name": "stderr",
     "output_type": "stream",
     "text": [
      "C:\\Windows\\Temp\\ipykernel_7172\\4162172318.py:18: FutureWarning: The default value of numeric_only in DataFrame.mean is deprecated. In a future version, it will default to False. In addition, specifying 'numeric_only=None' is deprecated. Select only valid columns or specify the value of numeric_only to silence this warning.\n",
      "  inputs=inputs.fillna(inputs.mean())\n"
     ]
    }
   ],
   "source": [
    "import os\n",
    "os.makedirs(os.path.join('..', 'data'), exist_ok=True)#创建文件夹\n",
    "data_file = os.path.join('..', 'data', 'house_tiny.csv')#创建文件\n",
    "with open(data_file, 'w') as f:\n",
    "    f.write('NumRooms,Alley,Price\\n') # 列名\n",
    "    f.write('NA,Pave,127500\\n') # 每⾏表⽰⼀个数据样本\n",
    "    f.write('2,NA,106000\\n')\n",
    "    f.write('4,NA,178100\\n')\n",
    "    f.write('NA,NA,140000\\n')\n",
    "import pandas as pd\n",
    "data = pd.read_csv(data_file)\n",
    "print(data)\n",
    "print('\\n')\n",
    "inputs=data.iloc[:,0:2]\n",
    "print('\\n')\n",
    "print(inputs)\n",
    "print('\\n')\n",
    "inputs=inputs.fillna(inputs.mean())\n",
    "inputs = pd.get_dummies(inputs, dummy_na=True)\n",
    "print(inputs)"
   ]
  },
  {
   "cell_type": "markdown",
   "source": [
    "F1分数的计算公式是精确度（Precision）和召回率（Recall）的调和平均。具体公式如下：\n",
    "\n",
    "[ F1 = 2 \\times \\frac{\\text{Precision} \\times \\text{Recall}}{\\text{Precision} + \\text{Recall}} ]\n",
    "\n",
    "其中：\n",
    "\n",
    "精确度（Precision） 是指模型正确预测为正类的样本数与模型预测为正类的总样本数之比。计算公式为：[ \\text{Precision} = \\frac{\\text{True Positives (TP)}}{\\text{True Positives (TP)} + \\text{False Positives (FP)}} ]\n",
    "召回率（Recall） 是指模型正确预测为正类的样本数与实际正类的总样本数之比。计算公式为：[ \\text{Recall} = \\frac{\\text{True Positives (TP)}}{\\text{True Positives (TP)} + \\text{False Negatives (FN)}} ]\n",
    "在这些定义中：\n",
    "\n",
    "True Positives (TP) 是正确预测的正类样本数。\n",
    "False Positives (FP) 是错误预测为正类的负类样本数。\n",
    "False Negatives (FN) 是错误预测为负类的正类样本数。\n",
    "F1分数是一个衡量模型准确性的综合指标，尤其在类别不平衡的情况下比单纯的准确度更为有效。它在精确度和召回率之间找到了一个平衡点，尤其适用于那些对假阳性和假阴性同等重视的场景"
   ],
   "metadata": {
    "collapsed": false,
    "pycharm": {
     "name": "#%% md\n"
    }
   }
  },
  {
   "cell_type": "code",
   "execution_count": null,
   "outputs": [],
   "source": [],
   "metadata": {
    "collapsed": false,
    "pycharm": {
     "name": "#%%\n"
    }
   }
  }
 ],
 "metadata": {
  "kernelspec": {
   "display_name": "Python 3 (ipykernel)",
   "language": "python",
   "name": "python3"
  },
  "language_info": {
   "codemirror_mode": {
    "name": "ipython",
    "version": 3
   },
   "file_extension": ".py",
   "mimetype": "text/x-python",
   "name": "python",
   "nbconvert_exporter": "python",
   "pygments_lexer": "ipython3",
   "version": "3.10.9"
  }
 },
 "nbformat": 4,
 "nbformat_minor": 5
}